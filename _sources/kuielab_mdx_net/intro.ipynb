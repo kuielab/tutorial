{
 "cells": [
  {
   "cell_type": "markdown",
   "id": "a72c26c6",
   "metadata": {},
   "source": [
    "# Introduction to KUIELab-MDX-Net\n",
    "\n",
    "In this section, we introduce KUIELab-MDX-Net.\n",
    "It was develpoed by IELab @ Korea University (mainly, Minseok Kim and Woosung Choi).\n"
   ]
  },
  {
   "cell_type": "code",
   "execution_count": null,
   "id": "53fc9e2d",
   "metadata": {},
   "outputs": [],
   "source": []
  }
 ],
 "metadata": {
  "kernelspec": {
   "display_name": "Python 3 (ipykernel)",
   "language": "python",
   "name": "python3"
  },
  "language_info": {
   "codemirror_mode": {
    "name": "ipython",
    "version": 3
   },
   "file_extension": ".py",
   "mimetype": "text/x-python",
   "name": "python",
   "nbconvert_exporter": "python",
   "pygments_lexer": "ipython3",
   "version": "3.9.7"
  }
 },
 "nbformat": 4,
 "nbformat_minor": 5
}
