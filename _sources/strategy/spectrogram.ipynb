{
 "cells": [
  {
   "cell_type": "markdown",
   "id": "cf2e94c4",
   "metadata": {},
   "source": [
    "# Spectrogram"
   ]
  },
  {
   "cell_type": "code",
   "execution_count": 18,
   "id": "610eb037",
   "metadata": {},
   "outputs": [
    {
     "name": "stdout",
     "output_type": "stream",
     "text": [
      "track numbers of mus_train: 80\n",
      "track numbers of mus_valid: 14\n",
      "track numbers of mus_test: 50\n"
     ]
    }
   ],
   "source": [
    "import musdb\n",
    "mus_train = musdb.DB(download=True, subsets='train', split='train')\n",
    "mus_valid = musdb.DB(download=True, subsets='train', split='valid')\n",
    "mus_test = musdb.DB(download=True, subsets='test')\n",
    "\n",
    "print('track numbers of mus_train: {}'.format(len(mus_train)))\n",
    "print('track numbers of mus_valid: {}'.format(len(mus_valid)))\n",
    "print('track numbers of mus_test: {}'.format(len(mus_test)))"
   ]
  },
  {
   "cell_type": "code",
   "execution_count": 72,
   "id": "1cab85b5",
   "metadata": {},
   "outputs": [],
   "source": [
    "from torch.utils.data import Dataset, DataLoader\n",
    "\n",
    "class SimpleMusdbWrapper(Dataset):\n",
    "\n",
    "    def __init__(self, musdb):\n",
    "        self.musdb = musdb\n",
    "\n",
    "    def __len__(self) -> int:\n",
    "        return len(self.musdb)\n",
    "\n",
    "    def __getitem__(self, i):\n",
    "        mixture = self.musdb[i].audio.T\n",
    "        targets = {source: self.musdb[i].sources[source].audio.T for source in self.musdb[i].sources.keys()}\n",
    "        \n",
    "        return mixture, targets\n",
    "    \n",
    "dataloader = DataLoader(SimpleMusdbWrapper(mus_train))"
   ]
  },
  {
   "cell_type": "code",
   "execution_count": 49,
   "id": "bc932744",
   "metadata": {},
   "outputs": [
    {
     "ename": "SyntaxError",
     "evalue": "invalid syntax (2355712608.py, line 3)",
     "output_type": "error",
     "traceback": [
      "\u001b[0;36m  File \u001b[0;32m\"/tmp/ipykernel_8320/2355712608.py\"\u001b[0;36m, line \u001b[0;32m3\u001b[0m\n\u001b[0;31m    class SpecModel()\u001b[0m\n\u001b[0m                     ^\u001b[0m\n\u001b[0;31mSyntaxError\u001b[0m\u001b[0;31m:\u001b[0m invalid syntax\n"
     ]
    }
   ],
   "source": [
    "import torch\n",
    "import pytorch_lightning as pl\n",
    "\n",
    "class SpecModel(pl.LightningModule):\n",
    "    def __init__(self, nfft):\n",
    "        super().__init__()\n",
    "        self.nfft=nfft\n",
    "\n",
    "    def forward(self, mixture):\n",
    "        torch.stft(mixture, self.nfft )\n",
    "\n"
   ]
  },
  {
   "cell_type": "code",
   "execution_count": 73,
   "id": "57c04e7d",
   "metadata": {},
   "outputs": [],
   "source": [
    "for mixture, target_dict in dataloader:\n",
    "    break"
   ]
  },
  {
   "cell_type": "code",
   "execution_count": 74,
   "id": "0ad77521",
   "metadata": {},
   "outputs": [
    {
     "data": {
      "text/plain": [
       "torch.Size([1, 2, 300032])"
      ]
     },
     "execution_count": 74,
     "metadata": {},
     "output_type": "execute_result"
    }
   ],
   "source": [
    "mixture.shape"
   ]
  },
  {
   "cell_type": "code",
   "execution_count": 80,
   "id": "66f9434d",
   "metadata": {
    "scrolled": true
   },
   "outputs": [],
   "source": [
    "spec = torch.stft(mixture[0], n_fft=1024, return_complex=True)\n",
    "spec = torch.view_as_real(spec)"
   ]
  },
  {
   "cell_type": "code",
   "execution_count": 82,
   "id": "ec773a1a",
   "metadata": {},
   "outputs": [
    {
     "data": {
      "text/plain": [
       "torch.Size([2, 300032])"
      ]
     },
     "execution_count": 82,
     "metadata": {},
     "output_type": "execute_result"
    }
   ],
   "source": [
    "sepc = torch.view_as_complex(spec)\n",
    "torch.istft(spec, n_fft=1024, return_complex=False).shape"
   ]
  }
 ],
 "metadata": {
  "kernelspec": {
   "display_name": "Python 3 (ipykernel)",
   "language": "python",
   "name": "python3"
  },
  "language_info": {
   "codemirror_mode": {
    "name": "ipython",
    "version": 3
   },
   "file_extension": ".py",
   "mimetype": "text/x-python",
   "name": "python",
   "nbconvert_exporter": "python",
   "pygments_lexer": "ipython3",
   "version": "3.9.7"
  }
 },
 "nbformat": 4,
 "nbformat_minor": 5
}
